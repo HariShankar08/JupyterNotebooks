{
 "cells": [
  {
   "cell_type": "markdown",
   "metadata": {
    "id": "7e-zrqab4lPA"
   },
   "source": [
    "# Supervised Learning"
   ]
  },
  {
   "cell_type": "markdown",
   "metadata": {
    "id": "DUBKb8jy4qjC"
   },
   "source": [
    "## ANN"
   ]
  },
  {
   "cell_type": "code",
   "execution_count": 24,
   "metadata": {
    "colab": {
     "base_uri": "https://localhost:8080/",
     "height": 35
    },
    "executionInfo": {
     "elapsed": 4418,
     "status": "ok",
     "timestamp": 1607609634439,
     "user": {
      "displayName": "Hari Shankar",
      "photoUrl": "https://lh3.googleusercontent.com/a-/AOh14GhJYoP28jaUozJCPxkogF345dWjn8fSzRJVaqN3Jg=s64",
      "userId": "14707832216706497129"
     },
     "user_tz": -330
    },
    "id": "xrHXsWfb4p2m",
    "outputId": "f41bc54a-ca9a-4fee-bfac-57edc4e8887a"
   },
   "outputs": [
    {
     "data": {
      "application/vnd.google.colaboratory.intrinsic+json": {
       "type": "string"
      },
      "text/plain": [
       "'2.3.0'"
      ]
     },
     "execution_count": 24,
     "metadata": {
      "tags": []
     },
     "output_type": "execute_result"
    }
   ],
   "source": [
    "import pandas as pd\r\n",
    "import numpy as np\r\n",
    "import tensorflow as tf\r\n",
    "\r\n",
    "tf.__version__"
   ]
  },
  {
   "cell_type": "code",
   "execution_count": 2,
   "metadata": {
    "colab": {
     "base_uri": "https://localhost:8080/",
     "height": 215
    },
    "executionInfo": {
     "elapsed": 1097,
     "status": "ok",
     "timestamp": 1607607735060,
     "user": {
      "displayName": "Hari Shankar",
      "photoUrl": "https://lh3.googleusercontent.com/a-/AOh14GhJYoP28jaUozJCPxkogF345dWjn8fSzRJVaqN3Jg=s64",
      "userId": "14707832216706497129"
     },
     "user_tz": -330
    },
    "id": "oooXuHz84wV3",
    "outputId": "5cc49956-5330-4e4a-ec5d-b3f463a98047"
   },
   "outputs": [
    {
     "data": {
      "text/html": [
       "<div>\n",
       "<style scoped>\n",
       "    .dataframe tbody tr th:only-of-type {\n",
       "        vertical-align: middle;\n",
       "    }\n",
       "\n",
       "    .dataframe tbody tr th {\n",
       "        vertical-align: top;\n",
       "    }\n",
       "\n",
       "    .dataframe thead th {\n",
       "        text-align: right;\n",
       "    }\n",
       "</style>\n",
       "<table border=\"1\" class=\"dataframe\">\n",
       "  <thead>\n",
       "    <tr style=\"text-align: right;\">\n",
       "      <th></th>\n",
       "      <th>RowNumber</th>\n",
       "      <th>CustomerId</th>\n",
       "      <th>Surname</th>\n",
       "      <th>CreditScore</th>\n",
       "      <th>Geography</th>\n",
       "      <th>Gender</th>\n",
       "      <th>Age</th>\n",
       "      <th>Tenure</th>\n",
       "      <th>Balance</th>\n",
       "      <th>NumOfProducts</th>\n",
       "      <th>HasCrCard</th>\n",
       "      <th>IsActiveMember</th>\n",
       "      <th>EstimatedSalary</th>\n",
       "      <th>Exited</th>\n",
       "    </tr>\n",
       "  </thead>\n",
       "  <tbody>\n",
       "    <tr>\n",
       "      <th>0</th>\n",
       "      <td>1</td>\n",
       "      <td>15634602</td>\n",
       "      <td>Hargrave</td>\n",
       "      <td>619</td>\n",
       "      <td>France</td>\n",
       "      <td>Female</td>\n",
       "      <td>42</td>\n",
       "      <td>2</td>\n",
       "      <td>0.00</td>\n",
       "      <td>1</td>\n",
       "      <td>1</td>\n",
       "      <td>1</td>\n",
       "      <td>101348.88</td>\n",
       "      <td>1</td>\n",
       "    </tr>\n",
       "    <tr>\n",
       "      <th>1</th>\n",
       "      <td>2</td>\n",
       "      <td>15647311</td>\n",
       "      <td>Hill</td>\n",
       "      <td>608</td>\n",
       "      <td>Spain</td>\n",
       "      <td>Female</td>\n",
       "      <td>41</td>\n",
       "      <td>1</td>\n",
       "      <td>83807.86</td>\n",
       "      <td>1</td>\n",
       "      <td>0</td>\n",
       "      <td>1</td>\n",
       "      <td>112542.58</td>\n",
       "      <td>0</td>\n",
       "    </tr>\n",
       "    <tr>\n",
       "      <th>2</th>\n",
       "      <td>3</td>\n",
       "      <td>15619304</td>\n",
       "      <td>Onio</td>\n",
       "      <td>502</td>\n",
       "      <td>France</td>\n",
       "      <td>Female</td>\n",
       "      <td>42</td>\n",
       "      <td>8</td>\n",
       "      <td>159660.80</td>\n",
       "      <td>3</td>\n",
       "      <td>1</td>\n",
       "      <td>0</td>\n",
       "      <td>113931.57</td>\n",
       "      <td>1</td>\n",
       "    </tr>\n",
       "    <tr>\n",
       "      <th>3</th>\n",
       "      <td>4</td>\n",
       "      <td>15701354</td>\n",
       "      <td>Boni</td>\n",
       "      <td>699</td>\n",
       "      <td>France</td>\n",
       "      <td>Female</td>\n",
       "      <td>39</td>\n",
       "      <td>1</td>\n",
       "      <td>0.00</td>\n",
       "      <td>2</td>\n",
       "      <td>0</td>\n",
       "      <td>0</td>\n",
       "      <td>93826.63</td>\n",
       "      <td>0</td>\n",
       "    </tr>\n",
       "    <tr>\n",
       "      <th>4</th>\n",
       "      <td>5</td>\n",
       "      <td>15737888</td>\n",
       "      <td>Mitchell</td>\n",
       "      <td>850</td>\n",
       "      <td>Spain</td>\n",
       "      <td>Female</td>\n",
       "      <td>43</td>\n",
       "      <td>2</td>\n",
       "      <td>125510.82</td>\n",
       "      <td>1</td>\n",
       "      <td>1</td>\n",
       "      <td>1</td>\n",
       "      <td>79084.10</td>\n",
       "      <td>0</td>\n",
       "    </tr>\n",
       "  </tbody>\n",
       "</table>\n",
       "</div>"
      ],
      "text/plain": [
       "   RowNumber  CustomerId   Surname  ...  IsActiveMember EstimatedSalary Exited\n",
       "0          1    15634602  Hargrave  ...               1       101348.88      1\n",
       "1          2    15647311      Hill  ...               1       112542.58      0\n",
       "2          3    15619304      Onio  ...               0       113931.57      1\n",
       "3          4    15701354      Boni  ...               0        93826.63      0\n",
       "4          5    15737888  Mitchell  ...               1        79084.10      0\n",
       "\n",
       "[5 rows x 14 columns]"
      ]
     },
     "execution_count": 2,
     "metadata": {
      "tags": []
     },
     "output_type": "execute_result"
    }
   ],
   "source": [
    "data = pd.read_csv('Churn_Modelling.csv')\r\n",
    "\r\n",
    "data.head()"
   ]
  },
  {
   "cell_type": "code",
   "execution_count": 4,
   "metadata": {
    "colab": {
     "base_uri": "https://localhost:8080/"
    },
    "executionInfo": {
     "elapsed": 1238,
     "status": "ok",
     "timestamp": 1607608026016,
     "user": {
      "displayName": "Hari Shankar",
      "photoUrl": "https://lh3.googleusercontent.com/a-/AOh14GhJYoP28jaUozJCPxkogF345dWjn8fSzRJVaqN3Jg=s64",
      "userId": "14707832216706497129"
     },
     "user_tz": -330
    },
    "id": "2xpp4oPG56RN",
    "outputId": "0ac4048e-ff02-4c6b-ce5e-e8e4110d3ea1"
   },
   "outputs": [
    {
     "name": "stdout",
     "output_type": "stream",
     "text": [
      "<class 'pandas.core.frame.DataFrame'>\n",
      "RangeIndex: 10000 entries, 0 to 9999\n",
      "Data columns (total 14 columns):\n",
      " #   Column           Non-Null Count  Dtype  \n",
      "---  ------           --------------  -----  \n",
      " 0   RowNumber        10000 non-null  int64  \n",
      " 1   CustomerId       10000 non-null  int64  \n",
      " 2   Surname          10000 non-null  object \n",
      " 3   CreditScore      10000 non-null  int64  \n",
      " 4   Geography        10000 non-null  object \n",
      " 5   Gender           10000 non-null  object \n",
      " 6   Age              10000 non-null  int64  \n",
      " 7   Tenure           10000 non-null  int64  \n",
      " 8   Balance          10000 non-null  float64\n",
      " 9   NumOfProducts    10000 non-null  int64  \n",
      " 10  HasCrCard        10000 non-null  int64  \n",
      " 11  IsActiveMember   10000 non-null  int64  \n",
      " 12  EstimatedSalary  10000 non-null  float64\n",
      " 13  Exited           10000 non-null  int64  \n",
      "dtypes: float64(2), int64(9), object(3)\n",
      "memory usage: 1.1+ MB\n"
     ]
    }
   ],
   "source": [
    "data.info()"
   ]
  },
  {
   "cell_type": "code",
   "execution_count": 3,
   "metadata": {
    "colab": {
     "base_uri": "https://localhost:8080/"
    },
    "executionInfo": {
     "elapsed": 1159,
     "status": "ok",
     "timestamp": 1607607782181,
     "user": {
      "displayName": "Hari Shankar",
      "photoUrl": "https://lh3.googleusercontent.com/a-/AOh14GhJYoP28jaUozJCPxkogF345dWjn8fSzRJVaqN3Jg=s64",
      "userId": "14707832216706497129"
     },
     "user_tz": -330
    },
    "id": "vWMUlaoH406m",
    "outputId": "11947427-1c81-40f5-f754-48005ac7c105"
   },
   "outputs": [
    {
     "data": {
      "text/plain": [
       "array([[619, 'France', 'Female', ..., 1, 1, 101348.88],\n",
       "       [608, 'Spain', 'Female', ..., 0, 1, 112542.58],\n",
       "       [502, 'France', 'Female', ..., 1, 0, 113931.57],\n",
       "       ...,\n",
       "       [709, 'France', 'Female', ..., 0, 1, 42085.58],\n",
       "       [772, 'Germany', 'Male', ..., 1, 0, 92888.52],\n",
       "       [792, 'France', 'Female', ..., 1, 0, 38190.78]], dtype=object)"
      ]
     },
     "execution_count": 3,
     "metadata": {
      "tags": []
     },
     "output_type": "execute_result"
    }
   ],
   "source": [
    "X = data.iloc[:, 3:-1].values\r\n",
    "y = data.iloc[:, -1].values\r\n",
    "\r\n",
    "X"
   ]
  },
  {
   "cell_type": "code",
   "execution_count": 5,
   "metadata": {
    "colab": {
     "base_uri": "https://localhost:8080/"
    },
    "executionInfo": {
     "elapsed": 1191,
     "status": "ok",
     "timestamp": 1607608190923,
     "user": {
      "displayName": "Hari Shankar",
      "photoUrl": "https://lh3.googleusercontent.com/a-/AOh14GhJYoP28jaUozJCPxkogF345dWjn8fSzRJVaqN3Jg=s64",
      "userId": "14707832216706497129"
     },
     "user_tz": -330
    },
    "id": "VEnJo3wy6imb",
    "outputId": "4f675e92-c169-4f7a-bd6d-84bb0a890fd7"
   },
   "outputs": [
    {
     "data": {
      "text/plain": [
       "(10000, 10)"
      ]
     },
     "execution_count": 5,
     "metadata": {
      "tags": []
     },
     "output_type": "execute_result"
    }
   ],
   "source": [
    "X.shape"
   ]
  },
  {
   "cell_type": "code",
   "execution_count": 26,
   "metadata": {
    "colab": {
     "base_uri": "https://localhost:8080/"
    },
    "executionInfo": {
     "elapsed": 1021,
     "status": "ok",
     "timestamp": 1607614330107,
     "user": {
      "displayName": "Hari Shankar",
      "photoUrl": "https://lh3.googleusercontent.com/a-/AOh14GhJYoP28jaUozJCPxkogF345dWjn8fSzRJVaqN3Jg=s64",
      "userId": "14707832216706497129"
     },
     "user_tz": -330
    },
    "id": "9SKLWHCu8FZm",
    "outputId": "e65c2c51-10ae-451c-c067-2675ba4cae31"
   },
   "outputs": [
    {
     "data": {
      "text/plain": [
       "array([[619, 'France', 0, ..., 1, 1, 101348.88],\n",
       "       [608, 'Spain', 0, ..., 0, 1, 112542.58],\n",
       "       [502, 'France', 0, ..., 1, 0, 113931.57],\n",
       "       ...,\n",
       "       [709, 'France', 0, ..., 0, 1, 42085.58],\n",
       "       [772, 'Germany', 1, ..., 1, 0, 92888.52],\n",
       "       [792, 'France', 0, ..., 1, 0, 38190.78]], dtype=object)"
      ]
     },
     "execution_count": 26,
     "metadata": {
      "tags": []
     },
     "output_type": "execute_result"
    }
   ],
   "source": [
    "from sklearn.preprocessing import LabelEncoder\r\n",
    "\r\n",
    "le = LabelEncoder()\r\n",
    "\r\n",
    "X[:, 2] = le.fit_transform(X[:, 2])\r\n",
    "\r\n",
    "X"
   ]
  },
  {
   "cell_type": "code",
   "execution_count": 27,
   "metadata": {
    "colab": {
     "base_uri": "https://localhost:8080/"
    },
    "executionInfo": {
     "elapsed": 1157,
     "status": "ok",
     "timestamp": 1607614432226,
     "user": {
      "displayName": "Hari Shankar",
      "photoUrl": "https://lh3.googleusercontent.com/a-/AOh14GhJYoP28jaUozJCPxkogF345dWjn8fSzRJVaqN3Jg=s64",
      "userId": "14707832216706497129"
     },
     "user_tz": -330
    },
    "id": "DDjGf1XhR9jt",
    "outputId": "cb8037e5-b8be-42f5-9244-bb8656f60f86"
   },
   "outputs": [
    {
     "data": {
      "text/plain": [
       "array([[1.0, 0.0, 0.0, ..., 1, 1, 101348.88],\n",
       "       [0.0, 0.0, 1.0, ..., 0, 1, 112542.58],\n",
       "       [1.0, 0.0, 0.0, ..., 1, 0, 113931.57],\n",
       "       ...,\n",
       "       [1.0, 0.0, 0.0, ..., 0, 1, 42085.58],\n",
       "       [0.0, 1.0, 0.0, ..., 1, 0, 92888.52],\n",
       "       [1.0, 0.0, 0.0, ..., 1, 0, 38190.78]], dtype=object)"
      ]
     },
     "execution_count": 27,
     "metadata": {
      "tags": []
     },
     "output_type": "execute_result"
    }
   ],
   "source": [
    "from sklearn.preprocessing import OneHotEncoder\r\n",
    "from sklearn.compose import ColumnTransformer\r\n",
    "\r\n",
    "ct = ColumnTransformer(transformers=[('encoder', OneHotEncoder(), [1])], \r\n",
    "                       remainder='passthrough')\r\n",
    "X = np.array(ct.fit_transform(X))\r\n",
    "X"
   ]
  },
  {
   "cell_type": "code",
   "execution_count": 28,
   "metadata": {
    "colab": {
     "base_uri": "https://localhost:8080/"
    },
    "executionInfo": {
     "elapsed": 1108,
     "status": "ok",
     "timestamp": 1607614447325,
     "user": {
      "displayName": "Hari Shankar",
      "photoUrl": "https://lh3.googleusercontent.com/a-/AOh14GhJYoP28jaUozJCPxkogF345dWjn8fSzRJVaqN3Jg=s64",
      "userId": "14707832216706497129"
     },
     "user_tz": -330
    },
    "id": "dLySVXX4SX86",
    "outputId": "6d2eb52c-ccc7-4958-a36c-09d9aedbca74"
   },
   "outputs": [
    {
     "data": {
      "text/plain": [
       "(10000, 12)"
      ]
     },
     "execution_count": 28,
     "metadata": {
      "tags": []
     },
     "output_type": "execute_result"
    }
   ],
   "source": [
    "X.shape"
   ]
  },
  {
   "cell_type": "code",
   "execution_count": 29,
   "metadata": {
    "executionInfo": {
     "elapsed": 1035,
     "status": "ok",
     "timestamp": 1607614598677,
     "user": {
      "displayName": "Hari Shankar",
      "photoUrl": "https://lh3.googleusercontent.com/a-/AOh14GhJYoP28jaUozJCPxkogF345dWjn8fSzRJVaqN3Jg=s64",
      "userId": "14707832216706497129"
     },
     "user_tz": -330
    },
    "id": "WJ7KE0YHSbpo"
   },
   "outputs": [],
   "source": [
    "from sklearn.model_selection import train_test_split\r\n",
    "\r\n",
    "X_train, X_test, y_train, y_test = train_test_split(X, y, test_size=0.2,\r\n",
    "                                                    random_state=42)"
   ]
  },
  {
   "cell_type": "markdown",
   "metadata": {
    "id": "epmnKUEMT4zU"
   },
   "source": [
    "### Always Feature Scale for Neural Nets"
   ]
  },
  {
   "cell_type": "code",
   "execution_count": 30,
   "metadata": {
    "executionInfo": {
     "elapsed": 1318,
     "status": "ok",
     "timestamp": 1607614704005,
     "user": {
      "displayName": "Hari Shankar",
      "photoUrl": "https://lh3.googleusercontent.com/a-/AOh14GhJYoP28jaUozJCPxkogF345dWjn8fSzRJVaqN3Jg=s64",
      "userId": "14707832216706497129"
     },
     "user_tz": -330
    },
    "id": "QLfgyBxXTAnh"
   },
   "outputs": [],
   "source": [
    "from sklearn.preprocessing import StandardScaler\r\n",
    "\r\n",
    "sc = StandardScaler()\r\n",
    "\r\n",
    "X_train = sc.fit_transform(X_train)\r\n",
    "X_test = sc.transform(X_test)"
   ]
  },
  {
   "cell_type": "code",
   "execution_count": 31,
   "metadata": {
    "executionInfo": {
     "elapsed": 997,
     "status": "ok",
     "timestamp": 1607615641765,
     "user": {
      "displayName": "Hari Shankar",
      "photoUrl": "https://lh3.googleusercontent.com/a-/AOh14GhJYoP28jaUozJCPxkogF345dWjn8fSzRJVaqN3Jg=s64",
      "userId": "14707832216706497129"
     },
     "user_tz": -330
    },
    "id": "Rwf_NyNVTaQ-"
   },
   "outputs": [],
   "source": [
    "model = tf.keras.models.Sequential()\r\n",
    "\r\n",
    "model.add(tf.keras.layers.Dense(units=8, activation='relu'))\r\n",
    "model.add(tf.keras.layers.Dense(units=8, activation='relu'))\r\n",
    "model.add(tf.keras.layers.Dense(units=1, activation='sigmoid'))"
   ]
  },
  {
   "cell_type": "code",
   "execution_count": 33,
   "metadata": {
    "executionInfo": {
     "elapsed": 1020,
     "status": "ok",
     "timestamp": 1607615797455,
     "user": {
      "displayName": "Hari Shankar",
      "photoUrl": "https://lh3.googleusercontent.com/a-/AOh14GhJYoP28jaUozJCPxkogF345dWjn8fSzRJVaqN3Jg=s64",
      "userId": "14707832216706497129"
     },
     "user_tz": -330
    },
    "id": "clBHSICwW_SM"
   },
   "outputs": [],
   "source": [
    "model.compile(optimizer='adam', \r\n",
    "              loss='binary_crossentropy',\r\n",
    "              metrics=['accuracy'])"
   ]
  },
  {
   "cell_type": "code",
   "execution_count": 34,
   "metadata": {
    "executionInfo": {
     "elapsed": 1463,
     "status": "ok",
     "timestamp": 1607616108433,
     "user": {
      "displayName": "Hari Shankar",
      "photoUrl": "https://lh3.googleusercontent.com/a-/AOh14GhJYoP28jaUozJCPxkogF345dWjn8fSzRJVaqN3Jg=s64",
      "userId": "14707832216706497129"
     },
     "user_tz": -330
    },
    "id": "IGRb1P0vXlSs"
   },
   "outputs": [],
   "source": [
    "model.fit?"
   ]
  },
  {
   "cell_type": "code",
   "execution_count": 37,
   "metadata": {
    "colab": {
     "base_uri": "https://localhost:8080/"
    },
    "executionInfo": {
     "elapsed": 6675,
     "status": "ok",
     "timestamp": 1607616215753,
     "user": {
      "displayName": "Hari Shankar",
      "photoUrl": "https://lh3.googleusercontent.com/a-/AOh14GhJYoP28jaUozJCPxkogF345dWjn8fSzRJVaqN3Jg=s64",
      "userId": "14707832216706497129"
     },
     "user_tz": -330
    },
    "id": "aKpGG_FEYxG2",
    "outputId": "a5b9822d-25ad-4f46-fd1a-8cbb179e5911"
   },
   "outputs": [
    {
     "name": "stdout",
     "output_type": "stream",
     "text": [
      "Epoch 1/25\n",
      "250/250 [==============================] - 0s 858us/step - loss: 0.3348 - accuracy: 0.8629\n",
      "Epoch 2/25\n",
      "250/250 [==============================] - 0s 908us/step - loss: 0.3347 - accuracy: 0.8634\n",
      "Epoch 3/25\n",
      "250/250 [==============================] - 0s 877us/step - loss: 0.3342 - accuracy: 0.8631\n",
      "Epoch 4/25\n",
      "250/250 [==============================] - 0s 954us/step - loss: 0.3343 - accuracy: 0.8625\n",
      "Epoch 5/25\n",
      "250/250 [==============================] - 0s 922us/step - loss: 0.3339 - accuracy: 0.8614\n",
      "Epoch 6/25\n",
      "250/250 [==============================] - 0s 921us/step - loss: 0.3340 - accuracy: 0.8625\n",
      "Epoch 7/25\n",
      "250/250 [==============================] - 0s 895us/step - loss: 0.3332 - accuracy: 0.8626\n",
      "Epoch 8/25\n",
      "250/250 [==============================] - 0s 900us/step - loss: 0.3335 - accuracy: 0.8644\n",
      "Epoch 9/25\n",
      "250/250 [==============================] - 0s 938us/step - loss: 0.3329 - accuracy: 0.8621\n",
      "Epoch 10/25\n",
      "250/250 [==============================] - 0s 929us/step - loss: 0.3322 - accuracy: 0.8629\n",
      "Epoch 11/25\n",
      "250/250 [==============================] - 0s 919us/step - loss: 0.3328 - accuracy: 0.8646\n",
      "Epoch 12/25\n",
      "250/250 [==============================] - 0s 1ms/step - loss: 0.3323 - accuracy: 0.8635\n",
      "Epoch 13/25\n",
      "250/250 [==============================] - 0s 995us/step - loss: 0.3323 - accuracy: 0.8637\n",
      "Epoch 14/25\n",
      "250/250 [==============================] - 0s 971us/step - loss: 0.3319 - accuracy: 0.8630\n",
      "Epoch 15/25\n",
      "250/250 [==============================] - 0s 909us/step - loss: 0.3317 - accuracy: 0.8648\n",
      "Epoch 16/25\n",
      "250/250 [==============================] - 0s 893us/step - loss: 0.3314 - accuracy: 0.8652\n",
      "Epoch 17/25\n",
      "250/250 [==============================] - 0s 892us/step - loss: 0.3309 - accuracy: 0.8648\n",
      "Epoch 18/25\n",
      "250/250 [==============================] - 0s 934us/step - loss: 0.3311 - accuracy: 0.8654\n",
      "Epoch 19/25\n",
      "250/250 [==============================] - 0s 916us/step - loss: 0.3314 - accuracy: 0.8648\n",
      "Epoch 20/25\n",
      "250/250 [==============================] - 0s 901us/step - loss: 0.3305 - accuracy: 0.8650\n",
      "Epoch 21/25\n",
      "250/250 [==============================] - 0s 900us/step - loss: 0.3308 - accuracy: 0.8641\n",
      "Epoch 22/25\n",
      "250/250 [==============================] - 0s 932us/step - loss: 0.3309 - accuracy: 0.8644\n",
      "Epoch 23/25\n",
      "250/250 [==============================] - 0s 1ms/step - loss: 0.3306 - accuracy: 0.8646\n",
      "Epoch 24/25\n",
      "250/250 [==============================] - 0s 1ms/step - loss: 0.3303 - accuracy: 0.8621\n",
      "Epoch 25/25\n",
      "250/250 [==============================] - 0s 911us/step - loss: 0.3300 - accuracy: 0.8641\n"
     ]
    },
    {
     "data": {
      "text/plain": [
       "<tensorflow.python.keras.callbacks.History at 0x7fc100375be0>"
      ]
     },
     "execution_count": 37,
     "metadata": {
      "tags": []
     },
     "output_type": "execute_result"
    }
   ],
   "source": [
    "model.fit(x=X_train, y=y_train, epochs=25)"
   ]
  },
  {
   "cell_type": "code",
   "execution_count": 57,
   "metadata": {
    "colab": {
     "base_uri": "https://localhost:8080/"
    },
    "executionInfo": {
     "elapsed": 1030,
     "status": "ok",
     "timestamp": 1607617534979,
     "user": {
      "displayName": "Hari Shankar",
      "photoUrl": "https://lh3.googleusercontent.com/a-/AOh14GhJYoP28jaUozJCPxkogF345dWjn8fSzRJVaqN3Jg=s64",
      "userId": "14707832216706497129"
     },
     "user_tz": -330
    },
    "id": "c7pAhmtjY_Gc",
    "outputId": "582ad748-8780-4727-dacf-a603e5e8e029"
   },
   "outputs": [
    {
     "name": "stdout",
     "output_type": "stream",
     "text": [
      "[[False]]\n"
     ]
    }
   ],
   "source": [
    "# France, 600, Male, \r\n",
    "# Credit:600, Age:40,\r\n",
    "# Tenure:3, Bal:6000, Pr:2, Cr:1, Active:1, 50000\r\n",
    "\r\n",
    "single_res = [[1, 0, 0, 600, 1, 40, 3, 6000, 2, 1, 1, 50000]]\r\n",
    "\r\n",
    "print(model.predict(sc.transform(single_res)) > 0.5)"
   ]
  },
  {
   "cell_type": "code",
   "execution_count": 62,
   "metadata": {
    "executionInfo": {
     "elapsed": 1016,
     "status": "ok",
     "timestamp": 1607617814108,
     "user": {
      "displayName": "Hari Shankar",
      "photoUrl": "https://lh3.googleusercontent.com/a-/AOh14GhJYoP28jaUozJCPxkogF345dWjn8fSzRJVaqN3Jg=s64",
      "userId": "14707832216706497129"
     },
     "user_tz": -330
    },
    "id": "nR7XuDkJb_2P"
   },
   "outputs": [],
   "source": [
    "y_pred = model.predict(X_test)\r\n",
    "\r\n",
    "y_pred = y_pred > 0.5\r\n",
    "y_pred = y_pred.astype(int)"
   ]
  },
  {
   "cell_type": "code",
   "execution_count": 65,
   "metadata": {
    "colab": {
     "base_uri": "https://localhost:8080/"
    },
    "executionInfo": {
     "elapsed": 1096,
     "status": "ok",
     "timestamp": 1607617904302,
     "user": {
      "displayName": "Hari Shankar",
      "photoUrl": "https://lh3.googleusercontent.com/a-/AOh14GhJYoP28jaUozJCPxkogF345dWjn8fSzRJVaqN3Jg=s64",
      "userId": "14707832216706497129"
     },
     "user_tz": -330
    },
    "id": "hkC-qIwDcOiv",
    "outputId": "b77ba2fc-288e-4f41-973e-11ce4fc90331"
   },
   "outputs": [
    {
     "name": "stdout",
     "output_type": "stream",
     "text": [
      "[[1600    7]\n",
      " [ 342   51]]\n"
     ]
    },
    {
     "data": {
      "text/plain": [
       "0.8255"
      ]
     },
     "execution_count": 65,
     "metadata": {
      "tags": []
     },
     "output_type": "execute_result"
    }
   ],
   "source": [
    "from sklearn.metrics import confusion_matrix, accuracy_score\r\n",
    "\r\n",
    "cm = confusion_matrix(y_test, y_pred)\r\n",
    "\r\n",
    "print(cm)\r\n",
    "\r\n",
    "accuracy_score(y_test, y_pred)"
   ]
  },
  {
   "cell_type": "markdown",
   "metadata": {
    "id": "q5v_3FdWvbu8"
   },
   "source": [
    "## CNN"
   ]
  },
  {
   "cell_type": "markdown",
   "metadata": {
    "id": "8uwd0B_fesWx"
   },
   "source": [
    "### Load the data"
   ]
  },
  {
   "cell_type": "code",
   "execution_count": null,
   "metadata": {},
   "outputs": [],
   "source": [
    "from keras.preprocessing.image import ImageDataGenerator\n",
    "\n",
    "train_datagen = ImageDataGenerator(rescale=1./255,\n",
    "                                  shear_range=0.2,\n",
    "                                  zoom_range=0.2,\n",
    "                                  horizontal_flip=True)\n",
    "\n",
    "test_datagen = ImageDataGenerator(rescale=1./255)\n",
    "\n",
    "training"
   ]
  }
 ],
 "metadata": {
  "colab": {
   "authorship_tag": "ABX9TyOid2h78klCmn3YoV00+FiB",
   "collapsed_sections": [],
   "name": "AIStuffForReference.ipynb",
   "provenance": []
  },
  "kernelspec": {
   "display_name": "Python 3",
   "language": "python",
   "name": "python3"
  },
  "language_info": {
   "codemirror_mode": {
    "name": "ipython",
    "version": 3
   },
   "file_extension": ".py",
   "mimetype": "text/x-python",
   "name": "python",
   "nbconvert_exporter": "python",
   "pygments_lexer": "ipython3",
   "version": "3.8.5"
  }
 },
 "nbformat": 4,
 "nbformat_minor": 4
}
