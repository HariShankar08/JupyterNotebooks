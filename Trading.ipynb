{
  "nbformat": 4,
  "nbformat_minor": 0,
  "metadata": {
    "colab": {
      "name": "Trading.ipynb",
      "provenance": [],
      "collapsed_sections": [],
      "authorship_tag": "ABX9TyPpnv5uoiudMtfHEVutmmIA",
      "include_colab_link": true
    },
    "kernelspec": {
      "name": "python3",
      "display_name": "Python 3"
    }
  },
  "cells": [
    {
      "cell_type": "markdown",
      "metadata": {
        "id": "view-in-github",
        "colab_type": "text"
      },
      "source": [
        "<a href=\"https://colab.research.google.com/github/HariShankar08/JupyterNotebooks/blob/main/Trading.ipynb\" target=\"_parent\"><img src=\"https://colab.research.google.com/assets/colab-badge.svg\" alt=\"Open In Colab\"/></a>"
      ]
    },
    {
      "cell_type": "code",
      "metadata": {
        "id": "4nBL3obVSxcP"
      },
      "source": [
        "import pandas as pd\n",
        "import datetime as dt\n",
        "from pandas_datareader import data as pdr\n",
        "import fix_yahoo_finance\n",
        "\n",
        "import numpy as np\n",
        "import matplotlib.pyplot as plt"
      ],
      "execution_count": null,
      "outputs": []
    },
    {
      "cell_type": "code",
      "metadata": {
        "colab": {
          "base_uri": "https://localhost:8080/",
          "height": 235
        },
        "id": "Asm1iGGeTG31",
        "outputId": "90134c49-6cf7-4056-dc82-e3f0eb2f81af"
      },
      "source": [
        "ticker = pdr.get_data_yahoo('AAPL', start=dt.datetime(2020, 1, 1), end=dt.date.today())\n",
        "\n",
        "ticker.head()"
      ],
      "execution_count": null,
      "outputs": [
        {
          "output_type": "execute_result",
          "data": {
            "text/html": [
              "<div>\n",
              "<style scoped>\n",
              "    .dataframe tbody tr th:only-of-type {\n",
              "        vertical-align: middle;\n",
              "    }\n",
              "\n",
              "    .dataframe tbody tr th {\n",
              "        vertical-align: top;\n",
              "    }\n",
              "\n",
              "    .dataframe thead th {\n",
              "        text-align: right;\n",
              "    }\n",
              "</style>\n",
              "<table border=\"1\" class=\"dataframe\">\n",
              "  <thead>\n",
              "    <tr style=\"text-align: right;\">\n",
              "      <th></th>\n",
              "      <th>High</th>\n",
              "      <th>Low</th>\n",
              "      <th>Open</th>\n",
              "      <th>Close</th>\n",
              "      <th>Volume</th>\n",
              "      <th>Adj Close</th>\n",
              "    </tr>\n",
              "    <tr>\n",
              "      <th>Date</th>\n",
              "      <th></th>\n",
              "      <th></th>\n",
              "      <th></th>\n",
              "      <th></th>\n",
              "      <th></th>\n",
              "      <th></th>\n",
              "    </tr>\n",
              "  </thead>\n",
              "  <tbody>\n",
              "    <tr>\n",
              "      <th>2020-01-02</th>\n",
              "      <td>75.150002</td>\n",
              "      <td>73.797501</td>\n",
              "      <td>74.059998</td>\n",
              "      <td>75.087502</td>\n",
              "      <td>135480400.0</td>\n",
              "      <td>73.840042</td>\n",
              "    </tr>\n",
              "    <tr>\n",
              "      <th>2020-01-03</th>\n",
              "      <td>75.144997</td>\n",
              "      <td>74.125000</td>\n",
              "      <td>74.287498</td>\n",
              "      <td>74.357498</td>\n",
              "      <td>146322800.0</td>\n",
              "      <td>73.122154</td>\n",
              "    </tr>\n",
              "    <tr>\n",
              "      <th>2020-01-06</th>\n",
              "      <td>74.989998</td>\n",
              "      <td>73.187500</td>\n",
              "      <td>73.447502</td>\n",
              "      <td>74.949997</td>\n",
              "      <td>118387200.0</td>\n",
              "      <td>73.704819</td>\n",
              "    </tr>\n",
              "    <tr>\n",
              "      <th>2020-01-07</th>\n",
              "      <td>75.224998</td>\n",
              "      <td>74.370003</td>\n",
              "      <td>74.959999</td>\n",
              "      <td>74.597504</td>\n",
              "      <td>108872000.0</td>\n",
              "      <td>73.358185</td>\n",
              "    </tr>\n",
              "    <tr>\n",
              "      <th>2020-01-08</th>\n",
              "      <td>76.110001</td>\n",
              "      <td>74.290001</td>\n",
              "      <td>74.290001</td>\n",
              "      <td>75.797501</td>\n",
              "      <td>132079200.0</td>\n",
              "      <td>74.538239</td>\n",
              "    </tr>\n",
              "  </tbody>\n",
              "</table>\n",
              "</div>"
            ],
            "text/plain": [
              "                 High        Low       Open      Close       Volume  Adj Close\n",
              "Date                                                                          \n",
              "2020-01-02  75.150002  73.797501  74.059998  75.087502  135480400.0  73.840042\n",
              "2020-01-03  75.144997  74.125000  74.287498  74.357498  146322800.0  73.122154\n",
              "2020-01-06  74.989998  73.187500  73.447502  74.949997  118387200.0  73.704819\n",
              "2020-01-07  75.224998  74.370003  74.959999  74.597504  108872000.0  73.358185\n",
              "2020-01-08  76.110001  74.290001  74.290001  75.797501  132079200.0  74.538239"
            ]
          },
          "metadata": {
            "tags": []
          },
          "execution_count": 34
        }
      ]
    },
    {
      "cell_type": "code",
      "metadata": {
        "id": "BtHfqQX2Tf2-"
      },
      "source": [
        "short_window = 40\n",
        "long_window = 100\n",
        "\n",
        "# Initialize the `signals` DataFrame with the `signal` column\n",
        "signals = pd.DataFrame(index=ticker.index)\n",
        "signals['signal'] = 0.0\n",
        "\n",
        "# Create short simple moving average over the short window\n",
        "signals['short_mavg'] = ticker['Close'].rolling(window=short_window, min_periods=1, center=False).mean()\n",
        "\n",
        "# Create long simple moving average over the long window\n",
        "signals['long_mavg'] = ticker['Close'].rolling(window=long_window, min_periods=1, center=False).mean()\n",
        "\n",
        "# Create signals\n",
        "signals['signal'][short_window:] = np.where(signals['short_mavg'][short_window:] \n",
        "                                            > signals['long_mavg'][short_window:], 1.0, 0.0)   \n",
        "\n",
        "# Generate trading orders\n",
        "signals['positions'] = signals['signal'].diff()"
      ],
      "execution_count": null,
      "outputs": []
    },
    {
      "cell_type": "code",
      "metadata": {
        "id": "nLSeX5TTT7dt"
      },
      "source": [
        "# Set the initial capital\n",
        "initial_capital= float(100000.0)\n",
        "\n",
        "# Create a DataFrame `positions`\n",
        "positions = pd.DataFrame(index=signals.index).fillna(0.0)\n",
        "\n",
        "# Buy a 100 shares\n",
        "positions['AAPL'] = 100*signals['signal']   \n",
        "  \n",
        "# Initialize the portfolio with value owned   \n",
        "portfolio = positions.multiply(ticker['Adj Close'], axis=0)\n",
        "\n",
        "# Store the difference in shares owned \n",
        "pos_diff = positions.diff()\n",
        "\n",
        "# Add `holdings` to portfolio\n",
        "portfolio['holdings'] = (positions.multiply(ticker['Adj Close'], axis=0)).sum(axis=1)\n",
        "\n",
        "# Add `cash` to portfolio\n",
        "portfolio['cash'] = initial_capital - (pos_diff.multiply(ticker['Adj Close'], axis=0)).sum(axis=1).cumsum()   \n",
        "\n",
        "# Add `total` to portfolio\n",
        "portfolio['total'] = portfolio['cash'] + portfolio['holdings']\n",
        "\n",
        "# Add `returns` to portfolio\n",
        "portfolio['returns'] = portfolio['total'].pct_change()"
      ],
      "execution_count": null,
      "outputs": []
    },
    {
      "cell_type": "code",
      "metadata": {
        "colab": {
          "base_uri": "https://localhost:8080/",
          "height": 277
        },
        "id": "Lg3BJt8qUOuG",
        "outputId": "18fc00cd-fb2c-4a2b-f877-536e81d59bc0"
      },
      "source": [
        "\n",
        "import matplotlib.pyplot as plt\n",
        "\n",
        "fig = plt.figure()\n",
        "\n",
        "ax1 = fig.add_subplot(111, ylabel='Portfolio value in $')\n",
        "\n",
        "# Plot the equity curve in dollars\n",
        "portfolio['total'].plot(ax=ax1, lw=2.)\n",
        "\n",
        "# Plot the \"buy\" trades against the equity curve\n",
        "ax1.plot(portfolio.loc[signals.positions == 1.0].index, \n",
        "         portfolio.total[signals.positions == 1.0],\n",
        "         '^', markersize=10, color='m')\n",
        "\n",
        "# Plot the \"sell\" trades against the equity curve\n",
        "ax1.plot(portfolio.loc[signals.positions == -1.0].index, \n",
        "         portfolio.total[signals.positions == -1.0],\n",
        "         'v', markersize=10, color='k')\n",
        "\n",
        "# Show the plot\n",
        "plt.show()"
      ],
      "execution_count": null,
      "outputs": [
        {
          "output_type": "display_data",
          "data": {
            "image/png": "[encoded data removed]",
            "text/plain": [
              "<Figure size 432x288 with 1 Axes>"
            ]
          },
          "metadata": {
            "tags": [],
            "needs_background": "light"
          }
        }
      ]
    },
    {
      "cell_type": "markdown",
      "metadata": {
        "id": "M0VvDgghovaw"
      },
      "source": [
        "### wait whaa"
      ]
    }
  ]
}